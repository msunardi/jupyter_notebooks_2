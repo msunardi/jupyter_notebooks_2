{
 "cells": [
  {
   "cell_type": "code",
   "execution_count": 5,
   "metadata": {
    "collapsed": false
   },
   "outputs": [
    {
     "data": {
      "text/plain": [
       "3"
      ]
     },
     "execution_count": 5,
     "metadata": {},
     "output_type": "execute_result"
    }
   ],
   "source": [
    "foo = [1,5,3,74,2,43,6,1,3]\n",
    "foo.index(74)"
   ]
  },
  {
   "cell_type": "code",
   "execution_count": 7,
   "metadata": {
    "collapsed": false
   },
   "outputs": [
    {
     "data": {
      "text/plain": [
       "5"
      ]
     },
     "execution_count": 7,
     "metadata": {},
     "output_type": "execute_result"
    }
   ],
   "source": [
    "a = foo.pop(1)\n",
    "a"
   ]
  },
  {
   "cell_type": "code",
   "execution_count": 9,
   "metadata": {
    "collapsed": false
   },
   "outputs": [
    {
     "name": "stdout",
     "output_type": "stream",
     "text": [
      "[1, 3, 74, 2, 43, 6, 1, 3]\n"
     ]
    }
   ],
   "source": [
    "print(foo)"
   ]
  },
  {
   "cell_type": "code",
   "execution_count": 22,
   "metadata": {
    "collapsed": false
   },
   "outputs": [
    {
     "data": {
      "text/plain": [
       "[1, 4, 74, 2, 43, 6, 1, 3, [1, 2], [1, 2], 1, 2]"
      ]
     },
     "execution_count": 22,
     "metadata": {},
     "output_type": "execute_result"
    }
   ],
   "source": [
    "foo[1] = 4\n",
    "foo"
   ]
  },
  {
   "cell_type": "code",
   "execution_count": 7,
   "metadata": {
    "collapsed": false,
    "scrolled": true
   },
   "outputs": [
    {
     "name": "stdout",
     "output_type": "stream",
     "text": [
      "Final: [[0, 1]]\n"
     ]
    }
   ],
   "source": [
    "def opponentMatching(xp):\n",
    "    limit = max(xp)\n",
    "    xp = [x for x in xp if (x>=1 and x<= 10e+9) ]\n",
    "    if len(xp) <= 1:\n",
    "        return []\n",
    "    if len(xp) == 2:\n",
    "        return [[0,1]]\n",
    "    if len(xp) == 3:\n",
    "        if (xp[0] - xp[1])**2 <= (xp[1] - xp[2])**2:\n",
    "            return [[0,1]]\n",
    "        else:\n",
    "            return [[1,2]]\n",
    "    # Indices that have been paired    \n",
    "    collected = []\n",
    "    # Copy of the input    \n",
    "    xp_copy = list(xp)\n",
    "    # The output    \n",
    "    out = []\n",
    "    \n",
    "    def checker(xxp, epoch, collected):\n",
    "        foo = []\n",
    "        i = 0\n",
    "        for p in xxp:\n",
    "            i += 1\n",
    "            if p == -1:\n",
    "                continue\n",
    "            for x in xxp[i:]:\n",
    "                print(p)\n",
    "                print(x)\n",
    "                if x in collected or x == -1:\n",
    "                    continue\n",
    "                check = False\n",
    "                if p > x:\n",
    "                    pe = p-epoch\n",
    "                    xe = x+epoch\n",
    "                    check = xe >= pe\n",
    "                else:\n",
    "                    pe = p+epoch\n",
    "                    xe = x-epoch\n",
    "                    check = pe >= xe\n",
    "                print(\"pe: %s | xe: %s\" % (pe,xe))\n",
    "                if check:\n",
    "                    o1 = xp.index(p)\n",
    "                    print(\"o1: %s\" % o1)\n",
    "                    xp[o1] = -1\n",
    "                    o2 = xp.index(x)\n",
    "                    print(\"o2: %s\" % o2)\n",
    "                    xp[o2] = -1\n",
    "                    foo = [o1, o2]\n",
    "                    print(\"Out: %s\" % foo)\n",
    "                    try:\n",
    "                        xp_copy.pop(xp_copy.index(x))\n",
    "                        xp_copy.pop(xp_copy.index(p))\n",
    "                        print(\"xp_copy: %s\" % xp_copy)\n",
    "                    except IndexError as e:\n",
    "                        print(e)\n",
    "                        print(xp_copy)\n",
    "                    collected += foo\n",
    "                    print(collected)\n",
    "                    return foo\n",
    "           \n",
    "        else:\n",
    "            return []\n",
    "    \n",
    "    epoch = 0\n",
    "    while len(xp_copy) > 1:\n",
    "        print(\"Epoch: %s\" % epoch)\n",
    "        o = checker(xp, epoch, collected)\n",
    "        if o:\n",
    "            out.append(o)\n",
    "            print(\"Out: %s\" % out)\n",
    "        epoch += 1\n",
    "        if epoch > 1000:\n",
    "            break\n",
    "            \n",
    "    print(xp_copy)\n",
    "    print(collected)\n",
    "    \n",
    "    return out\n",
    "            \n",
    "# Expected output for \n",
    "# xp = [200, 100, 70, 130, 100, 800, 810]\n",
    "# [[1,4], \n",
    "#  [5,6], \n",
    "#  [2,3]]\n",
    "# For: [1, 5, 11, 3, 1, 16, 100]\n",
    "# xp = [1, 5, 11, 3, 1, 16, 100]\n",
    "# [[0,4], \n",
    "#  [1,3], \n",
    "#  [2,5]]\n",
    "xp = [1,1000000000, 100000000, 1]\n",
    "xp = [1,100]\n",
    "results = opponentMatching(xp)\n",
    "print(\"Final: %s\" % results)"
   ]
  },
  {
   "cell_type": "code",
   "execution_count": 28,
   "metadata": {
    "collapsed": false
   },
   "outputs": [],
   "source": [
    "xp = [1000000000, 100000000, 1]\n",
    "xp = [x for x in xp if (x>=1 and x<= 10e+9)]"
   ]
  },
  {
   "cell_type": "code",
   "execution_count": 30,
   "metadata": {
    "collapsed": false
   },
   "outputs": [
    {
     "data": {
      "text/plain": [
       "10000000000.0"
      ]
     },
     "execution_count": 30,
     "metadata": {},
     "output_type": "execute_result"
    }
   ],
   "source": [
    "10e+9"
   ]
  },
  {
   "cell_type": "markdown",
   "metadata": {
    "collapsed": true
   },
   "source": [
    "Most of you are familiar with the \"Challenges\" section on CodeFights. This is where you can solve one of the existing challenges or submit your own. Each challenge has its own scoreboard organized by programming language. Solutions in these scoreboards are sorted according to their length. When the length of a solution is calculated, all comments and spaces are ignored. Your task is to implement a simplified version of this length calculator.\n",
    "\n",
    "Assume that there are only two types of comments:\n",
    "\n",
    "    line-comment: starting with '//' and ending at the end of the line;\n",
    "    block-comment: starting with '/*', and ending with the first occurrence of '*/'. It may span several lines.\n",
    "\n",
    "Each non-space character outside comments adds 1 to the total length.\n",
    "\n",
    "Note that all characters inside each comment are ignored, so they don't introduce nested comments. See the examples for more details.\n",
    "\n",
    "Also note that outside any other comment both '//' and '/*' start a new comment (i.e. in this task you don't have to consider the cases where '//', '/*' or '*/' appear inside a string literal).\n",
    "\n",
    "Example\n",
    "\n",
    "    For\n",
    "\n",
    "    source = [\"int a = 2;\",\n",
    "              \"int b = 47;/*37;*///41;\",\n",
    "              \"int c = 3/*4//5*/;\",\n",
    "              \"return a / b * c/*a /* b / c*/;\"]\n",
    "\n",
    "    the output should be shortestSolutionLength(source) = 34.\n",
    "        In the 1st line there are 7 non-space characters;\n",
    "        In the 2nd line there are 2 comments - /*37;*/ and //41;. Besides those there are only 8 non-space characters;\n",
    "        The 3rd line contains 1 comment - /*4//5*/, and 7 non-space characters;\n",
    "        The last line of code has 1 comment - /*a /* b / c*/, and 12 non-space characters;\n",
    "        In summary, there are 7 + 8 + 7 + 12 = 34 countable characters.\n",
    "\n",
    "    For\n",
    "\n",
    "    source = [\"var a = 2;\",\n",
    "              \"/*\",\n",
    "              \"var b = 2;\",\n",
    "              \"if (a === b) {\",\n",
    "              \"  b = a + 1;\",\n",
    "              \"  //b = a * 2 - 1;\",\n",
    "              \"}\",\n",
    "              \"*/\",\n",
    "              \"var b = 3;\",\n",
    "              \"return a * b;\"]\n",
    "\n",
    "    the output should be shortestSolutionLength(source) = 24.\n",
    "\n",
    "    Here the code contains one block-comment that covers lines 2 to 8 (1-based). Other lines don't contain comments and have 7, 7, 10 symbols to count, respectively. So, the answer is 7 + 7 + 10 = 24.\n",
    "\n",
    "Input/Output\n",
    "\n",
    "    [time limit] 4000ms (py)\n",
    "\n",
    "    [input] array.string source\n",
    "\n",
    "    Guaranteed constraints:\n",
    "    1 ≤ source.length ≤ 10,\n",
    "    1 ≤ source[i].length ≤ 150.\n",
    "\n",
    "    [output] integer\n",
    "\n"
   ]
  },
  {
   "cell_type": "code",
   "execution_count": 10,
   "metadata": {
    "collapsed": false
   },
   "outputs": [
    {
     "data": {
      "text/plain": [
       "[9, 13, 16, 17, 20, 21, 25, 28, 29]"
      ]
     },
     "execution_count": 10,
     "metadata": {},
     "output_type": "execute_result"
    }
   ],
   "source": [
    "s = \"return a / b * c/*a /* b / c*/;\"\n",
    "b = \"/\"\n",
    "c = \"/*\"\n",
    "[pos for pos, char in enumerate(s) if char in c]"
   ]
  },
  {
   "cell_type": "code",
   "execution_count": 11,
   "metadata": {
    "collapsed": true
   },
   "outputs": [],
   "source": [
    "import re"
   ]
  },
  {
   "cell_type": "code",
   "execution_count": 27,
   "metadata": {
    "collapsed": false
   },
   "outputs": [
    {
     "name": "stdout",
     "output_type": "stream",
     "text": [
      "['/*', '*/', '//']\n",
      "['int b = 47;', '37;', '', '41;']\n"
     ]
    }
   ],
   "source": [
    "s = \"return a / b * c/*a /* b / c*/;\"\n",
    "s = \"int b = 47;/*37;*///41;\"\n",
    "ppp = re.compile('\\/\\*|\\*\\/|\\/\\/')\n",
    "fubar = ppp.findall(s)\n",
    "pos = ppp.split(s)\n",
    "print(fubar)\n",
    "print(pos)"
   ]
  },
  {
   "cell_type": "code",
   "execution_count": 184,
   "metadata": {
    "collapsed": false
   },
   "outputs": [
    {
     "name": "stdout",
     "output_type": "stream",
     "text": [
      "Source: ['/*', 'wawawawa', '//*/', '//', '123145']\n",
      "/*\n",
      "['', '/*', '']\n",
      "wawawawa\n",
      "['wawawawa']\n",
      "//*/\n",
      "['', '//*/', '']\n",
      "yo\n",
      "//\n",
      "['', '//', '']\n",
      "123145\n",
      "['123145']\n",
      "Block: False\n",
      "Bleh: ['', '123145']\n",
      "\n",
      "0\n",
      "123145\n",
      "6\n"
     ]
    },
    {
     "data": {
      "text/plain": [
       "6"
      ]
     },
     "execution_count": 184,
     "metadata": {},
     "output_type": "execute_result"
    }
   ],
   "source": [
    "source = [\"var a = 2;\",\n",
    "          \"/*\",\n",
    "          \"var b = 2;\",\n",
    "          \"if (a === b) {\",\n",
    "          \"  b = a + 1;\",\n",
    "          \"  //b = a * 2 - 1;\",\n",
    "          \"}\",\n",
    "          \"*/\",\n",
    "          \"var b = 3;\",\n",
    "          \"return a * b;\"]\n",
    "# source = [\"int a = 2;\",\n",
    "#           \"int b = 47;/*37;*///41;\",\n",
    "#           \"int c = 3/*4//5*/;\",\n",
    "#           \"return a / b * c/*a /* b / c*/;\"]\n",
    "# source=[\"function tricky_test(){}\", \n",
    "#  \"/*you don't expect to find this semicolon*/;\"]\n",
    "# for i in source:\n",
    "#     if i == \"/*\" or i == \"*/\":\n",
    "#         print(source.index(i))\n",
    "# source = ['///*fwefa*/abc',\n",
    "#          'a + b = 3 /* a comment */;',\n",
    "#          '']\n",
    "# source = [\"abck\", \"//laowefina\", \"/*1234/*1 2 3\", \"12312*/12e312\"]\n",
    "# source = ['/*not a thing*/This is a thing',\"this is also a thing\"]\n",
    "source = ['/*','wawawawa', '//*/', '//', '123145']\n",
    "blahdom(source)"
   ]
  },
  {
   "cell_type": "code",
   "execution_count": 178,
   "metadata": {
    "collapsed": false,
    "scrolled": true
   },
   "outputs": [
    {
     "name": "stdout",
     "output_type": "stream",
     "text": [
      "Source: ['/*not a thing*/This is a thing', 'this is also a thing']\n",
      "/*not a thing*/This is a thing\n",
      "['', '/*', 'not', ' ', 'a', ' ', 'thing', '*/', 'This', ' ', 'is', ' ', 'a', ' ', 'thing']\n",
      "this is also a thing\n",
      "['this', ' ', 'is', ' ', 'also', ' ', 'a', ' ', 'thing']\n",
      "Block: False\n",
      "Bleh: ['This is a thing', 'this is also a thing']\n",
      "Thisisathing\n",
      "12\n",
      "thisisalsoathing\n",
      "16\n"
     ]
    },
    {
     "data": {
      "text/plain": [
       "28"
      ]
     },
     "execution_count": 178,
     "metadata": {},
     "output_type": "execute_result"
    }
   ],
   "source": [
    "def blahdom(source):\n",
    "    # if an element is \"/*\" collect the next elements until a \"*/\" is found\n",
    "    block = False\n",
    "    bleh = []\n",
    "    count = 0\n",
    "    print(\"Source: %s\" % source)\n",
    "    for s in source:\n",
    "        print(s)\n",
    "        print(p.split(s))\n",
    "        if s == \"*/\":\n",
    "            block = False\n",
    "            continue\n",
    "        if s == \"/*\":\n",
    "            block = True\n",
    "            continue\n",
    "        if s == \"//\" or (not block and s.startswith('//')):\n",
    "            continue\n",
    "        if block and s.startswith('*/') and len(s) > 2:\n",
    "            bleh.append(s[2:])\n",
    "            block = False\n",
    "            continue\n",
    "        if block and '*/' in s:\n",
    "            print('yo')\n",
    "            bleh.append(blablah('/*%s' % s))\n",
    "            block = False\n",
    "            continue\n",
    "        if s.startswith('/*') and len(s) > 2 and '*/' not in s:\n",
    "#             count += blahdom(p.split(s))\n",
    "            bleh.append(blablah(s))\n",
    "            block = True\n",
    "            continue\n",
    "        if not block:\n",
    "            bleh.append(blablah(s))\n",
    "            continue\n",
    "    print(\"Block: %s\" % block)\n",
    "    print(\"Bleh: %s\" % bleh)\n",
    "    count += domblah(bleh)\n",
    "    return count\n",
    "\n",
    "def blablah(blah):\n",
    "    ret = []\n",
    "    flag = False\n",
    "    skip = None\n",
    "    for i in range(len(blah)):\n",
    "        if skip == i:\n",
    "            continue\n",
    "#         print(\"Flag: %s\" % flag)\n",
    "        if not flag:\n",
    "#             print('not flag')\n",
    "#             print(blah[i:i+2] == '/*')\n",
    "#             print(blah[i] == '/')\n",
    "            if blah[i] == '/' and blah[i:i+2] == '/*':\n",
    "#                 print(\"Setting flag to True\")\n",
    "                flag = True\n",
    "                continue\n",
    "            if blah[i] == '/' and blah[i:i+2] == '//':\n",
    "                return ''.join(ret)\n",
    "            ret.append(blah[i])\n",
    "        else:\n",
    "#             print('flag')\n",
    "            if blah[i] == '*' and blah[i:i+2] == '*/':\n",
    "#                 print(\"Setting flag to False\")\n",
    "                flag = False\n",
    "                skip = i+1\n",
    "        \n",
    "    return ''.join(ret)\n",
    "            \n",
    "        \n",
    "def domblah(blah):\n",
    "    count = 0\n",
    "    \n",
    "    for b in blah:       \n",
    "#         mboh = ''.join(b.split(' '))\n",
    "        mboh = ''.join(p.split(''.join(b.split(' '))))\n",
    "        print(mboh)\n",
    "        print(len(mboh))\n",
    "        count += len(mboh)\n",
    "        \n",
    "    return count\n",
    "        \n",
    "blahdom(source)\n",
    "            "
   ]
  },
  {
   "cell_type": "code",
   "execution_count": 47,
   "metadata": {
    "collapsed": false
   },
   "outputs": [
    {
     "name": "stdout",
     "output_type": "stream",
     "text": [
      "vara=2;\n",
      "varb=3;\n",
      "returna*b;\n"
     ]
    }
   ],
   "source": [
    "for i in ['var a = 2;', 'var b = 3;', 'return a * b;']:\n",
    "    mboh = ''.join(i.split(' '))\n",
    "    print(mboh)"
   ]
  },
  {
   "cell_type": "code",
   "execution_count": 54,
   "metadata": {
    "collapsed": false
   },
   "outputs": [
    {
     "data": {
      "text/plain": [
       "True"
      ]
     },
     "execution_count": 54,
     "metadata": {},
     "output_type": "execute_result"
    }
   ],
   "source": [
    "True if '//a+b+c+d+xyz'.startswith('//') else False"
   ]
  },
  {
   "cell_type": "code",
   "execution_count": 104,
   "metadata": {
    "collapsed": false
   },
   "outputs": [
    {
     "name": "stdout",
     "output_type": "stream",
     "text": [
      "['function tricky_test(){}', \"/*you don't expect to find this semicolon*/;\"]\n",
      "['function', ' ', 'tricky_test', '(){}', '']\n",
      "['', '/*', 'you', ' ', 'don', \"'\", 't', ' ', 'expect', ' ', 'to', ' ', 'find', ' ', 'this', ' ', 'semicolon', '*/;', '']\n",
      "['', '/*', 'you', ' ', 'don', \"'\", 't', ' ', 'expect', ' ', 'to', ' ', 'find', ' ', 'this', ' ', 'semicolon', '*/;', '']\n",
      "['']\n",
      "['', '/*', '']\n",
      "['you']\n",
      "['', ' ', '']\n",
      "['don']\n",
      "['', \"'\", '']\n",
      "['t']\n",
      "['', ' ', '']\n",
      "['expect']\n",
      "['', ' ', '']\n",
      "['to']\n",
      "['', ' ', '']\n",
      "['find']\n",
      "['', ' ', '']\n",
      "['this']\n",
      "['', ' ', '']\n",
      "['semicolon']\n",
      "['', '*/;', '']\n",
      "['']\n",
      "['', ';', '']\n",
      "\n",
      "0\n",
      ";\n",
      "1\n",
      "\n",
      "0\n",
      "['function tricky_test(){}']\n",
      "functiontricky_test(){}\n",
      "23\n"
     ]
    },
    {
     "data": {
      "text/plain": [
       "24"
      ]
     },
     "execution_count": 104,
     "metadata": {},
     "output_type": "execute_result"
    }
   ],
   "source": [
    "source=[\"function tricky_test(){}\", \n",
    " \"/*you don't expect to find this semicolon*/;\"]\n",
    "p = re.compile(r'(\\W+)')\n",
    "# blahdom(p.split(source[1]))\n",
    "blahdom(source)\n",
    "# print(p.split(source[1]))"
   ]
  },
  {
   "cell_type": "code",
   "execution_count": 142,
   "metadata": {
    "collapsed": false
   },
   "outputs": [
    {
     "name": "stdout",
     "output_type": "stream",
     "text": [
      "Flag: False\n",
      "not flag\n",
      "False\n",
      "False\n",
      "Flag: False\n",
      "not flag\n",
      "False\n",
      "False\n",
      "Flag: False\n",
      "not flag\n",
      "False\n",
      "False\n",
      "Flag: False\n",
      "not flag\n",
      "False\n",
      "False\n",
      "Flag: False\n",
      "not flag\n",
      "False\n",
      "False\n",
      "Flag: False\n",
      "not flag\n",
      "True\n",
      "True\n",
      "Setting flag to True\n",
      "Flag: True\n",
      "flag\n",
      "Flag: True\n",
      "flag\n",
      "Flag: True\n",
      "flag\n",
      "Flag: True\n",
      "flag\n",
      "Flag: True\n",
      "flag\n",
      "Flag: True\n",
      "flag\n",
      "Flag: True\n",
      "flag\n",
      "Flag: True\n",
      "flag\n",
      "Flag: True\n",
      "flag\n",
      "Setting flag to False\n",
      "Flag: False\n",
      "not flag\n",
      "False\n",
      "False\n",
      "Flag: False\n",
      "not flag\n",
      "False\n",
      "False\n",
      "Flag: False\n",
      "not flag\n",
      "False\n",
      "False\n",
      "Flag: False\n",
      "not flag\n",
      "True\n",
      "True\n",
      "Setting flag to True\n",
      "Flag: True\n",
      "flag\n",
      "Flag: True\n",
      "flag\n",
      "Flag: True\n",
      "flag\n",
      "Flag: True\n",
      "flag\n",
      "Flag: True\n",
      "flag\n",
      "Flag: True\n",
      "flag\n",
      "Flag: True\n",
      "flag\n",
      "Setting flag to False\n",
      "Flag: False\n",
      "not flag\n",
      "False\n",
      "False\n",
      "Flag: False\n",
      "not flag\n",
      "False\n",
      "False\n",
      "Flag: False\n",
      "not flag\n",
      "False\n",
      "False\n",
      "Flag: False\n",
      "not flag\n",
      "False\n",
      "False\n"
     ]
    },
    {
     "data": {
      "text/plain": [
       "['t', 'o', 'l', 'o', 'a', 'x', 'x', 'x', 'f', 'w', 'e', '1']"
      ]
     },
     "execution_count": 142,
     "metadata": {},
     "output_type": "execute_result"
    }
   ],
   "source": [
    "def blablah(blah):\n",
    "    ret = []\n",
    "    flag = False\n",
    "    skip = None\n",
    "    for i in range(len(blah)):\n",
    "        if skip == i:\n",
    "            continue\n",
    "        print(\"Flag: %s\" % flag)\n",
    "        if not flag:\n",
    "            print('not flag')\n",
    "            print(blah[i:i+2] == '/*')\n",
    "            print(blah[i] == '/')\n",
    "            if blah[i] == '/' and blah[i:i+2] == '/*':\n",
    "                print(\"Setting flag to True\")\n",
    "                flag = True\n",
    "                continue\n",
    "            ret.append(blah[i])\n",
    "        else:\n",
    "            print('flag')\n",
    "            if blah[i] == '*' and blah[i:i+2] == '*/':\n",
    "                print(\"Setting flag to False\")\n",
    "                flag = False\n",
    "                skip = i+1\n",
    "        \n",
    "    return ret\n",
    "mwah = \"toloa/*dfwxytz*/xxx/*12314*/fwe1\"\n",
    "\n",
    "blablah(mwah)"
   ]
  },
  {
   "cell_type": "code",
   "execution_count": 160,
   "metadata": {
    "collapsed": false
   },
   "outputs": [
    {
     "data": {
      "text/plain": [
       "True"
      ]
     },
     "execution_count": 160,
     "metadata": {},
     "output_type": "execute_result"
    }
   ],
   "source": [
    "True if '*/' in '12312*/12e312' else False"
   ]
  },
  {
   "cell_type": "code",
   "execution_count": 186,
   "metadata": {
    "collapsed": false
   },
   "outputs": [
    {
     "data": {
      "text/plain": [
       "[1, 2, 3, 4]"
      ]
     },
     "execution_count": 186,
     "metadata": {},
     "output_type": "execute_result"
    }
   ],
   "source": [
    "foo = [1,2,3]\n",
    "foo.append(4)\n",
    "foo."
   ]
  },
  {
   "cell_type": "code",
   "execution_count": 187,
   "metadata": {
    "collapsed": false
   },
   "outputs": [
    {
     "data": {
      "text/plain": [
       "1"
      ]
     },
     "execution_count": 187,
     "metadata": {},
     "output_type": "execute_result"
    }
   ],
   "source": [
    "a = foo[0]\n",
    "foo[0] = -1\n",
    "a"
   ]
  },
  {
   "cell_type": "code",
   "execution_count": 188,
   "metadata": {
    "collapsed": false
   },
   "outputs": [
    {
     "data": {
      "text/plain": [
       "[-1, 2, 3, 4]"
      ]
     },
     "execution_count": 188,
     "metadata": {},
     "output_type": "execute_result"
    }
   ],
   "source": [
    "foo"
   ]
  },
  {
   "cell_type": "code",
   "execution_count": 189,
   "metadata": {
    "collapsed": false,
    "scrolled": true
   },
   "outputs": [
    {
     "ename": "ValueError",
     "evalue": "1 is not in list",
     "output_type": "error",
     "traceback": [
      "\u001b[0;31m---------------------------------------------------------------------------\u001b[0m",
      "\u001b[0;31mValueError\u001b[0m                                Traceback (most recent call last)",
      "\u001b[0;32m<ipython-input-189-061619471f67>\u001b[0m in \u001b[0;36m<module>\u001b[0;34m()\u001b[0m\n\u001b[0;32m----> 1\u001b[0;31m \u001b[0mfoo\u001b[0m\u001b[1;33m.\u001b[0m\u001b[0mindex\u001b[0m\u001b[1;33m(\u001b[0m\u001b[1;36m1\u001b[0m\u001b[1;33m)\u001b[0m\u001b[1;33m\u001b[0m\u001b[0m\n\u001b[0m",
      "\u001b[0;31mValueError\u001b[0m: 1 is not in list"
     ]
    }
   ],
   "source": [
    "foo.index(1)"
   ]
  },
  {
   "cell_type": "markdown",
   "metadata": {},
   "source": [
    "# Array practice \\#1\n",
    "Note: Write a solution with O(n) time complexity and O(1) additional space complexity, since this is what you would be asked to do during a real interview.\n",
    "\n",
    "Given an array a that contains only numbers in the range from 1 to a.length, find the first duplicate number for which the second occurrence has the minimal index. In other words, if there are more than 1 duplicated numbers, return the number for which the second occurrence has a smaller index than the second occurrence of the other number does. If there are no such elements, return -1.\n",
    "\n",
    "Example\n",
    "\n",
    "    For a = [2, 3, 3, 1, 5, 2], the output should be\n",
    "    firstDuplicate(a) = 3.\n",
    "\n",
    "    There are 2 duplicates: numbers 2 and 3. The second occurrence of 3 has a smaller index than than second occurrence of 2 does, so the answer is 3.\n",
    "\n",
    "    For a = [2, 4, 3, 5, 1], the output should be\n",
    "    firstDuplicate(a) = -1.\n",
    "\n",
    "Input/Output\n",
    "\n",
    "    [time limit] 4000ms (py)\n",
    "\n",
    "    [input] array.integer a\n",
    "\n",
    "    Guaranteed constraints:\n",
    "    1 ≤ a.length ≤ 105,\n",
    "    1 ≤ a[i] ≤ a.length.\n",
    "\n",
    "    [output] integer\n",
    "\n",
    "    The element in a that occurs in the array more than once and has the minimal index for its second occurrence. If there are no such elements, return -1.\n",
    "\n"
   ]
  },
  {
   "cell_type": "code",
   "execution_count": 261,
   "metadata": {
    "collapsed": false
   },
   "outputs": [
    {
     "name": "stdout",
     "output_type": "stream",
     "text": [
      "[0, 2, 0, 0, 0, 0]\n",
      "[0, 2, 3, 0, 0, 0]\n"
     ]
    },
    {
     "data": {
      "text/plain": [
       "3"
      ]
     },
     "execution_count": 261,
     "metadata": {},
     "output_type": "execute_result"
    }
   ],
   "source": [
    "# Solution!\n",
    "def firstDuplicate(a):\n",
    "    nums = [0]*len(a)\n",
    "    dupe = -1\n",
    "    for i in a:\n",
    "        if nums[i-1] == 0:\n",
    "            nums[i-1] = i\n",
    "        else:\n",
    "            return i\n",
    "        print(nums)\n",
    "    return dupe\n",
    "\n",
    "a = [1, 1, 2, 2, 1] # 1\n",
    "# a = [10, 6, 8, 4, 9, 1, 7, 2, 5, 3] # -1\n",
    "# a = [8, 4, 6, 2, 6, 4, 7, 9, 5, 8] # 6\n",
    "a = [2,2]\n",
    "a = [2,3,3]\n",
    "a = [2, 3, 3, 1, 5, 2]\n",
    "\n",
    "firstDuplicate(a)"
   ]
  },
  {
   "cell_type": "code",
   "execution_count": 256,
   "metadata": {
    "collapsed": false
   },
   "outputs": [
    {
     "name": "stdout",
     "output_type": "stream",
     "text": [
      "2\n",
      "0\n",
      "[-1, 2]\n",
      "2\n",
      "dupe_ = 1 vs dupe_index = 4\n",
      "1\n",
      "[-1, -1]\n",
      "2\n"
     ]
    },
    {
     "data": {
      "text/plain": [
       "2"
      ]
     },
     "execution_count": 256,
     "metadata": {},
     "output_type": "execute_result"
    }
   ],
   "source": [
    "def firstDuplicate(a):\n",
    "    dupes = -1\n",
    "    print(len(a))\n",
    "    if len(a) <= 1:\n",
    "        print(\"wat\")\n",
    "        return dupes\n",
    "    dupe_index = 2*len(a)\n",
    "    seen = []\n",
    "    \n",
    "    is_second = False\n",
    "    for i in range(len(a)):\n",
    "        if a[i] == -1:\n",
    "            print(\"a[i] == -1\")\n",
    "            continue\n",
    "        print(i)\n",
    "        tmp = a[i]\n",
    "        a[i] = -1\n",
    "        print(a)\n",
    "        \n",
    "        if i > dupe_index:\n",
    "            print(\"i > dupe_index\")\n",
    "            return dupes\n",
    "        print(tmp)\n",
    "        \n",
    "        try:\n",
    "            dupe_ = a.index(tmp)            \n",
    "            if dupe_ < dupe_index:\n",
    "                print(\"dupe_ = %s vs dupe_index = %s\" % (dupe_, dupe_index))\n",
    "                dupe_index = dupe_\n",
    "                dupes = tmp              \n",
    "                \n",
    "                \n",
    "        except ValueError as v:\n",
    "            continue\n",
    "    return dupes\n",
    "\n",
    "a = [1, 1, 2, 2, 1] # 1\n",
    "# a = [10, 6, 8, 4, 9, 1, 7, 2, 5, 3] # -1\n",
    "# a = [8, 4, 6, 2, 6, 4, 7, 9, 5, 8] # 6\n",
    "a = [2,2]\n",
    "\n",
    "firstDuplicate(a)"
   ]
  },
  {
   "cell_type": "markdown",
   "metadata": {},
   "source": [
    "# Array practice \\#2\n",
    "\n",
    "Given a string s, find and return the first instance of a non-repeating character in it. If there is no such character, return '_'.\n",
    "\n",
    "Example\n",
    "\n",
    "    For s = \"abacabad\", the output should be\n",
    "    firstNotRepeatingCharacter(s) = 'c'.\n",
    "\n",
    "    There are 2 non-repeating characters in the string: 'c' and 'd'. Return c since it appears in the string first.\n",
    "\n",
    "    For s = \"abacabaabacaba\", the output should be\n",
    "    firstNotRepeatingCharacter(s) = '_'.\n",
    "\n",
    "    There are no characters in this string that do not repeat.\n",
    "\n",
    "Input/Output\n",
    "\n",
    "    [time limit] 4000ms (py)\n",
    "\n",
    "    [input] string s\n",
    "\n",
    "    A string that contains only lowercase English letters.\n",
    "\n",
    "    Guaranteed constraints:\n",
    "    1 ≤ s.length ≤ 105.\n",
    "\n",
    "    [output] char\n",
    "\n",
    "    The first non-repeating character in s, or '_' if there are no characters that do not repeat.\n"
   ]
  },
  {
   "cell_type": "code",
   "execution_count": 278,
   "metadata": {
    "collapsed": false
   },
   "outputs": [
    {
     "name": "stdout",
     "output_type": "stream",
     "text": [
      "a\n",
      "seen: ['a']\n",
      "unique: [1]\n",
      "b\n",
      "seen: ['a', 'b']\n",
      "unique: [1, 1]\n",
      "c\n",
      "seen: ['a', 'b', 'c']\n",
      "unique: [1, 1, 1]\n",
      "d\n",
      "seen: ['a', 'b', 'c', 'd']\n",
      "unique: [1, 1, 1, 1]\n",
      "e\n",
      "seen: ['a', 'b', 'c', 'd', 'e']\n",
      "unique: [1, 1, 1, 1, 1]\n",
      "f\n",
      "seen: ['a', 'b', 'c', 'd', 'e', 'f']\n",
      "unique: [1, 1, 1, 1, 1, 1]\n",
      "g\n",
      "seen: ['a', 'b', 'c', 'd', 'e', 'f', 'g']\n",
      "unique: [1, 1, 1, 1, 1, 1, 1]\n",
      "h\n",
      "seen: ['a', 'b', 'c', 'd', 'e', 'f', 'g', 'h']\n",
      "unique: [1, 1, 1, 1, 1, 1, 1, 1]\n",
      "i\n",
      "seen: ['a', 'b', 'c', 'd', 'e', 'f', 'g', 'h', 'i']\n",
      "unique: [1, 1, 1, 1, 1, 1, 1, 1, 1]\n",
      "j\n",
      "seen: ['a', 'b', 'c', 'd', 'e', 'f', 'g', 'h', 'i', 'j']\n",
      "unique: [1, 1, 1, 1, 1, 1, 1, 1, 1, 1]\n",
      "k\n",
      "seen: ['a', 'b', 'c', 'd', 'e', 'f', 'g', 'h', 'i', 'j', 'k']\n",
      "unique: [1, 1, 1, 1, 1, 1, 1, 1, 1, 1, 1]\n",
      "l\n",
      "seen: ['a', 'b', 'c', 'd', 'e', 'f', 'g', 'h', 'i', 'j', 'k', 'l']\n",
      "unique: [1, 1, 1, 1, 1, 1, 1, 1, 1, 1, 1, 1]\n",
      "m\n",
      "seen: ['a', 'b', 'c', 'd', 'e', 'f', 'g', 'h', 'i', 'j', 'k', 'l', 'm']\n",
      "unique: [1, 1, 1, 1, 1, 1, 1, 1, 1, 1, 1, 1, 1]\n",
      "n\n",
      "seen: ['a', 'b', 'c', 'd', 'e', 'f', 'g', 'h', 'i', 'j', 'k', 'l', 'm', 'n']\n",
      "unique: [1, 1, 1, 1, 1, 1, 1, 1, 1, 1, 1, 1, 1, 1]\n",
      "o\n",
      "seen: ['a', 'b', 'c', 'd', 'e', 'f', 'g', 'h', 'i', 'j', 'k', 'l', 'm', 'n', 'o']\n",
      "unique: [1, 1, 1, 1, 1, 1, 1, 1, 1, 1, 1, 1, 1, 1, 1]\n",
      "p\n",
      "seen: ['a', 'b', 'c', 'd', 'e', 'f', 'g', 'h', 'i', 'j', 'k', 'l', 'm', 'n', 'o', 'p']\n",
      "unique: [1, 1, 1, 1, 1, 1, 1, 1, 1, 1, 1, 1, 1, 1, 1, 1]\n",
      "q\n",
      "seen: ['a', 'b', 'c', 'd', 'e', 'f', 'g', 'h', 'i', 'j', 'k', 'l', 'm', 'n', 'o', 'p', 'q']\n",
      "unique: [1, 1, 1, 1, 1, 1, 1, 1, 1, 1, 1, 1, 1, 1, 1, 1, 1]\n",
      "r\n",
      "seen: ['a', 'b', 'c', 'd', 'e', 'f', 'g', 'h', 'i', 'j', 'k', 'l', 'm', 'n', 'o', 'p', 'q', 'r']\n",
      "unique: [1, 1, 1, 1, 1, 1, 1, 1, 1, 1, 1, 1, 1, 1, 1, 1, 1, 1]\n",
      "s\n",
      "seen: ['a', 'b', 'c', 'd', 'e', 'f', 'g', 'h', 'i', 'j', 'k', 'l', 'm', 'n', 'o', 'p', 'q', 'r', 's']\n",
      "unique: [1, 1, 1, 1, 1, 1, 1, 1, 1, 1, 1, 1, 1, 1, 1, 1, 1, 1, 1]\n",
      "t\n",
      "seen: ['a', 'b', 'c', 'd', 'e', 'f', 'g', 'h', 'i', 'j', 'k', 'l', 'm', 'n', 'o', 'p', 'q', 'r', 's', 't']\n",
      "unique: [1, 1, 1, 1, 1, 1, 1, 1, 1, 1, 1, 1, 1, 1, 1, 1, 1, 1, 1, 1]\n",
      "u\n",
      "seen: ['a', 'b', 'c', 'd', 'e', 'f', 'g', 'h', 'i', 'j', 'k', 'l', 'm', 'n', 'o', 'p', 'q', 'r', 's', 't', 'u']\n",
      "unique: [1, 1, 1, 1, 1, 1, 1, 1, 1, 1, 1, 1, 1, 1, 1, 1, 1, 1, 1, 1, 1]\n",
      "v\n",
      "seen: ['a', 'b', 'c', 'd', 'e', 'f', 'g', 'h', 'i', 'j', 'k', 'l', 'm', 'n', 'o', 'p', 'q', 'r', 's', 't', 'u', 'v']\n",
      "unique: [1, 1, 1, 1, 1, 1, 1, 1, 1, 1, 1, 1, 1, 1, 1, 1, 1, 1, 1, 1, 1, 1]\n",
      "w\n",
      "seen: ['a', 'b', 'c', 'd', 'e', 'f', 'g', 'h', 'i', 'j', 'k', 'l', 'm', 'n', 'o', 'p', 'q', 'r', 's', 't', 'u', 'v', 'w']\n",
      "unique: [1, 1, 1, 1, 1, 1, 1, 1, 1, 1, 1, 1, 1, 1, 1, 1, 1, 1, 1, 1, 1, 1, 1]\n",
      "x\n",
      "seen: ['a', 'b', 'c', 'd', 'e', 'f', 'g', 'h', 'i', 'j', 'k', 'l', 'm', 'n', 'o', 'p', 'q', 'r', 's', 't', 'u', 'v', 'w', 'x']\n",
      "unique: [1, 1, 1, 1, 1, 1, 1, 1, 1, 1, 1, 1, 1, 1, 1, 1, 1, 1, 1, 1, 1, 1, 1, 1]\n",
      "y\n",
      "seen: ['a', 'b', 'c', 'd', 'e', 'f', 'g', 'h', 'i', 'j', 'k', 'l', 'm', 'n', 'o', 'p', 'q', 'r', 's', 't', 'u', 'v', 'w', 'x', 'y']\n",
      "unique: [1, 1, 1, 1, 1, 1, 1, 1, 1, 1, 1, 1, 1, 1, 1, 1, 1, 1, 1, 1, 1, 1, 1, 1, 1]\n",
      "z\n",
      "seen: ['a', 'b', 'c', 'd', 'e', 'f', 'g', 'h', 'i', 'j', 'k', 'l', 'm', 'n', 'o', 'p', 'q', 'r', 's', 't', 'u', 'v', 'w', 'x', 'y', 'z']\n",
      "unique: [1, 1, 1, 1, 1, 1, 1, 1, 1, 1, 1, 1, 1, 1, 1, 1, 1, 1, 1, 1, 1, 1, 1, 1, 1, 1]\n",
      "i\n",
      "seen: ['a', 'b', 'c', 'd', 'e', 'f', 'g', 'h', 'i', 'j', 'k', 'l', 'm', 'n', 'o', 'p', 'q', 'r', 's', 't', 'u', 'v', 'w', 'x', 'y', 'z']\n",
      "unique: [1, 1, 1, 1, 1, 1, 1, 1, 2, 1, 1, 1, 1, 1, 1, 1, 1, 1, 1, 1, 1, 1, 1, 1, 1, 1]\n",
      "f\n",
      "seen: ['a', 'b', 'c', 'd', 'e', 'f', 'g', 'h', 'i', 'j', 'k', 'l', 'm', 'n', 'o', 'p', 'q', 'r', 's', 't', 'u', 'v', 'w', 'x', 'y', 'z']\n",
      "unique: [1, 1, 1, 1, 1, 2, 1, 1, 2, 1, 1, 1, 1, 1, 1, 1, 1, 1, 1, 1, 1, 1, 1, 1, 1, 1]\n",
      "l\n",
      "seen: ['a', 'b', 'c', 'd', 'e', 'f', 'g', 'h', 'i', 'j', 'k', 'l', 'm', 'n', 'o', 'p', 'q', 'r', 's', 't', 'u', 'v', 'w', 'x', 'y', 'z']\n",
      "unique: [1, 1, 1, 1, 1, 2, 1, 1, 2, 1, 1, 2, 1, 1, 1, 1, 1, 1, 1, 1, 1, 1, 1, 1, 1, 1]\n",
      "s\n",
      "seen: ['a', 'b', 'c', 'd', 'e', 'f', 'g', 'h', 'i', 'j', 'k', 'l', 'm', 'n', 'o', 'p', 'q', 'r', 's', 't', 'u', 'v', 'w', 'x', 'y', 'z']\n",
      "unique: [1, 1, 1, 1, 1, 2, 1, 1, 2, 1, 1, 2, 1, 1, 1, 1, 1, 1, 2, 1, 1, 1, 1, 1, 1, 1]\n",
      "k\n",
      "seen: ['a', 'b', 'c', 'd', 'e', 'f', 'g', 'h', 'i', 'j', 'k', 'l', 'm', 'n', 'o', 'p', 'q', 'r', 's', 't', 'u', 'v', 'w', 'x', 'y', 'z']\n",
      "unique: [1, 1, 1, 1, 1, 2, 1, 1, 2, 1, 2, 2, 1, 1, 1, 1, 1, 1, 2, 1, 1, 1, 1, 1, 1, 1]\n",
      "e\n",
      "seen: ['a', 'b', 'c', 'd', 'e', 'f', 'g', 'h', 'i', 'j', 'k', 'l', 'm', 'n', 'o', 'p', 'q', 'r', 's', 't', 'u', 'v', 'w', 'x', 'y', 'z']\n",
      "unique: [1, 1, 1, 1, 2, 2, 1, 1, 2, 1, 2, 2, 1, 1, 1, 1, 1, 1, 2, 1, 1, 1, 1, 1, 1, 1]\n",
      "c\n",
      "seen: ['a', 'b', 'c', 'd', 'e', 'f', 'g', 'h', 'i', 'j', 'k', 'l', 'm', 'n', 'o', 'p', 'q', 'r', 's', 't', 'u', 'v', 'w', 'x', 'y', 'z']\n",
      "unique: [1, 1, 2, 1, 2, 2, 1, 1, 2, 1, 2, 2, 1, 1, 1, 1, 1, 1, 2, 1, 1, 1, 1, 1, 1, 1]\n",
      "z\n",
      "seen: ['a', 'b', 'c', 'd', 'e', 'f', 'g', 'h', 'i', 'j', 'k', 'l', 'm', 'n', 'o', 'p', 'q', 'r', 's', 't', 'u', 'v', 'w', 'x', 'y', 'z']\n",
      "unique: [1, 1, 2, 1, 2, 2, 1, 1, 2, 1, 2, 2, 1, 1, 1, 1, 1, 1, 2, 1, 1, 1, 1, 1, 1, 2]\n",
      "n\n",
      "seen: ['a', 'b', 'c', 'd', 'e', 'f', 'g', 'h', 'i', 'j', 'k', 'l', 'm', 'n', 'o', 'p', 'q', 'r', 's', 't', 'u', 'v', 'w', 'x', 'y', 'z']\n",
      "unique: [1, 1, 2, 1, 2, 2, 1, 1, 2, 1, 2, 2, 1, 2, 1, 1, 1, 1, 2, 1, 1, 1, 1, 1, 1, 2]\n",
      "s\n",
      "seen: ['a', 'b', 'c', 'd', 'e', 'f', 'g', 'h', 'i', 'j', 'k', 'l', 'm', 'n', 'o', 'p', 'q', 'r', 's', 't', 'u', 'v', 'w', 'x', 'y', 'z']\n",
      "unique: [1, 1, 2, 1, 2, 2, 1, 1, 2, 1, 2, 2, 1, 2, 1, 1, 1, 1, 3, 1, 1, 1, 1, 1, 1, 2]\n",
      "l\n",
      "seen: ['a', 'b', 'c', 'd', 'e', 'f', 'g', 'h', 'i', 'j', 'k', 'l', 'm', 'n', 'o', 'p', 'q', 'r', 's', 't', 'u', 'v', 'w', 'x', 'y', 'z']\n",
      "unique: [1, 1, 2, 1, 2, 2, 1, 1, 2, 1, 2, 3, 1, 2, 1, 1, 1, 1, 3, 1, 1, 1, 1, 1, 1, 2]\n",
      "k\n",
      "seen: ['a', 'b', 'c', 'd', 'e', 'f', 'g', 'h', 'i', 'j', 'k', 'l', 'm', 'n', 'o', 'p', 'q', 'r', 's', 't', 'u', 'v', 'w', 'x', 'y', 'z']\n",
      "unique: [1, 1, 2, 1, 2, 2, 1, 1, 2, 1, 3, 3, 1, 2, 1, 1, 1, 1, 3, 1, 1, 1, 1, 1, 1, 2]\n",
      "j\n",
      "seen: ['a', 'b', 'c', 'd', 'e', 'f', 'g', 'h', 'i', 'j', 'k', 'l', 'm', 'n', 'o', 'p', 'q', 'r', 's', 't', 'u', 'v', 'w', 'x', 'y', 'z']\n",
      "unique: [1, 1, 2, 1, 2, 2, 1, 1, 2, 2, 3, 3, 1, 2, 1, 1, 1, 1, 3, 1, 1, 1, 1, 1, 1, 2]\n",
      "f\n",
      "seen: ['a', 'b', 'c', 'd', 'e', 'f', 'g', 'h', 'i', 'j', 'k', 'l', 'm', 'n', 'o', 'p', 'q', 'r', 's', 't', 'u', 'v', 'w', 'x', 'y', 'z']\n",
      "unique: [1, 1, 2, 1, 2, 3, 1, 1, 2, 2, 3, 3, 1, 2, 1, 1, 1, 1, 3, 1, 1, 1, 1, 1, 1, 2]\n",
      "a\n",
      "seen: ['a', 'b', 'c', 'd', 'e', 'f', 'g', 'h', 'i', 'j', 'k', 'l', 'm', 'n', 'o', 'p', 'q', 'r', 's', 't', 'u', 'v', 'w', 'x', 'y', 'z']\n",
      "unique: [2, 1, 2, 1, 2, 3, 1, 1, 2, 2, 3, 3, 1, 2, 1, 1, 1, 1, 3, 1, 1, 1, 1, 1, 1, 2]\n",
      "b\n",
      "seen: ['a', 'b', 'c', 'd', 'e', 'f', 'g', 'h', 'i', 'j', 'k', 'l', 'm', 'n', 'o', 'p', 'q', 'r', 's', 't', 'u', 'v', 'w', 'x', 'y', 'z']\n",
      "unique: [2, 2, 2, 1, 2, 3, 1, 1, 2, 2, 3, 3, 1, 2, 1, 1, 1, 1, 3, 1, 1, 1, 1, 1, 1, 2]\n",
      "e\n",
      "seen: ['a', 'b', 'c', 'd', 'e', 'f', 'g', 'h', 'i', 'j', 'k', 'l', 'm', 'n', 'o', 'p', 'q', 'r', 's', 't', 'u', 'v', 'w', 'x', 'y', 'z']\n",
      "unique: [2, 2, 2, 1, 3, 3, 1, 1, 2, 2, 3, 3, 1, 2, 1, 1, 1, 1, 3, 1, 1, 1, 1, 1, 1, 2]\n"
     ]
    },
    {
     "data": {
      "text/plain": [
       "'d'"
      ]
     },
     "execution_count": 278,
     "metadata": {},
     "output_type": "execute_result"
    }
   ],
   "source": [
    "def firstNotRepeatingCharacter(s):\n",
    "    seen = []\n",
    "    unique = []\n",
    "    for i in range(len(s)):\n",
    "        c = s[i]\n",
    "        print(c)\n",
    "        if c in seen:\n",
    "            unique[seen.index(c)] += 1\n",
    "        else:\n",
    "            seen.append(c)\n",
    "            unique.append(1)\n",
    "        print('seen: %s' % seen)\n",
    "        print('unique: %s' % unique)\n",
    "    \n",
    "    if 1 in unique:\n",
    "        return seen[unique.index(1)]\n",
    "    return '_'\n",
    "\n",
    "s = \"abacabad\"\n",
    "s = \"abacabaabacaba\"\n",
    "s = \"z\"\n",
    "s = \"bcb\"\n",
    "s = \"abcdefghijklmnopqrstuvwxyziflskecznslkjfabe\"\n",
    "firstNotRepeatingCharacter(s)"
   ]
  },
  {
   "cell_type": "markdown",
   "metadata": {},
   "source": [
    "# Array practice \\#3\n",
    "\n",
    "Note: Try to solve this task in-place (with O(1) additional memory), since this is what you'll be asked to do during an interview.\n",
    "\n",
    "You are given an n x n 2D matrix that represents an image. Rotate the image by 90 degrees (clockwise).\n",
    "\n",
    "Example\n",
    "\n",
    "For\n",
    "\n",
    "a = [[1, 2, 3],\n",
    "     [4, 5, 6],\n",
    "     [7, 8, 9]]\n",
    "\n",
    "the output should be\n",
    "\n",
    "rotateImage(a) =\n",
    "    [[7, 4, 1],\n",
    "     [8, 5, 2],\n",
    "     [9, 6, 3]]\n",
    "\n",
    "Input/Output\n",
    "\n",
    "    [time limit] 4000ms (py)\n",
    "\n",
    "    [input] array.array.integer a\n",
    "\n",
    "    Guaranteed constraints:\n",
    "    1 ≤ a.length ≤ 100,\n",
    "    a[i].length = a.length,\n",
    "    1 ≤ a[i][j] ≤ 104.\n",
    "\n",
    "    [output] array.array.integer\n",
    "\n"
   ]
  },
  {
   "cell_type": "code",
   "execution_count": 6,
   "metadata": {
    "collapsed": false
   },
   "outputs": [
    {
     "data": {
      "text/plain": [
       "[[7, 4, 1], [8, 5, 2], [9, 6, 3]]"
      ]
     },
     "execution_count": 6,
     "metadata": {},
     "output_type": "execute_result"
    }
   ],
   "source": [
    "def rotateImage(a):\n",
    "    rotat = []\n",
    "    for i in range(len(a)):\n",
    "        tmp = []\n",
    "        for j in range(len(a)):\n",
    "            tmp.append(0)\n",
    "        rotat.append(tmp)\n",
    "#     print(rotat)\n",
    "    \n",
    "    for i in range(len(a), 0, -1):\n",
    "#         print(i)\n",
    "        for j in range(len(a)):\n",
    "#             print(\"i:%s - j:%s\" % (i,j))\n",
    "#             print(\"T: i:%s - j:%s\" % (i-1, -j-1))\n",
    "#             print(\"a: %s\" % a[j][i-1])\n",
    "            rotat[i-1][-j-1] = a[j][i-1]\n",
    "#             print(rotat)\n",
    "    return rotat\n",
    "    \n",
    "a = [[1, 2, 3],\n",
    "     [4, 5, 6],\n",
    "     [7, 8, 9]]\n",
    "# a = [[1]]\n",
    "# a = [[40,12,15,37,33,11,45,13,25,3], \n",
    "#  [37,35,15,43,23,12,22,29,46,43], \n",
    "#  [44,19,15,12,30,2,45,7,47,6], \n",
    "#  [48,4,40,10,16,22,18,36,27,48], \n",
    "#  [45,17,36,28,47,46,8,4,17,3], \n",
    "#  [14,9,33,1,6,31,7,38,25,17], \n",
    "#  [31,9,17,11,29,42,38,10,48,6], \n",
    "#  [12,13,42,3,47,24,28,22,3,47], \n",
    "#  [38,23,26,3,23,27,14,40,15,22], \n",
    "#  [8,46,20,21,35,4,36,18,32,3]]\n",
    "\n",
    "rotateImage(a)\n"
   ]
  },
  {
   "cell_type": "code",
   "execution_count": 323,
   "metadata": {
    "collapsed": false
   },
   "outputs": [
    {
     "data": {
      "text/plain": [
       "0"
      ]
     },
     "execution_count": 323,
     "metadata": {},
     "output_type": "execute_result"
    }
   ],
   "source": [
    "# foo = [0]*5\n",
    "# foo\n",
    "3%3"
   ]
  },
  {
   "cell_type": "code",
   "execution_count": 238,
   "metadata": {
    "collapsed": false
   },
   "outputs": [
    {
     "data": {
      "text/plain": [
       "-1.6094379124341003"
      ]
     },
     "execution_count": 238,
     "metadata": {},
     "output_type": "execute_result"
    }
   ],
   "source": [
    "from math import log, exp\n",
    "log(0.2)"
   ]
  },
  {
   "cell_type": "code",
   "execution_count": 222,
   "metadata": {
    "collapsed": false
   },
   "outputs": [
    {
     "data": {
      "text/plain": [
       "0.20000000000682008"
      ]
     },
     "execution_count": 222,
     "metadata": {},
     "output_type": "execute_result"
    }
   ],
   "source": [
    "exp(-1.6094379124)"
   ]
  },
  {
   "cell_type": "code",
   "execution_count": 244,
   "metadata": {
    "collapsed": false
   },
   "outputs": [
    {
     "name": "stdout",
     "output_type": "stream",
     "text": [
      "-0.3567 + -0.0000\n",
      "-0.3011 + -0.0000\n",
      "-0.9163 + -0.0000\n",
      "-0.1625 + -0.0000\n",
      "-0.2485 + -0.0000\n",
      "-0.0000 + -0.2231\n",
      "-0.0000 + -0.0513\n",
      "-0.0000 + -0.5447\n",
      "-0.0000 + -0.4005\n",
      "-0.0000 + -0.1278\n",
      "total: 0.3333\n"
     ]
    }
   ],
   "source": [
    "# def logloss(y,p):\n",
    "def logloss(x):\n",
    "    y = x[0]\n",
    "    p = x[1]\n",
    "    first_half = y * log(p)\n",
    "    second_half = (1-y) * log(1-p)\n",
    "    print(\"%.4f + %.4f\" % (first_half, second_half))\n",
    "    return first_half + second_half\n",
    "\n",
    "foofoo = [(1.0, 0.7), (1.0, 0.6), (1.0, 0.3), (1.0, 0.85), (1.0, 0.78), \n",
    "          (0.0, 0.2), (0.0, 0.05), (0.0, 0.5), (0.0, 0.43), (0.0, 0.12)]\n",
    "foofoo = [(1.0, 0.7), (1.0, 0.74), (1.0, 0.4), (1.0, 0.85), (1.0, 0.78), \n",
    "          (0.0, 0.2), (0.0, 0.05), (0.0, 0.42), (0.0, 0.33), (0.0, 0.12)]\n",
    "total = 0\n",
    "arg = [logloss(x) for x in foofoo]\n",
    "# for m in map(logloss, foofoo):\n",
    "#     print(\"m: %.4f\" % m)\n",
    "#     total += m\n",
    "#     \n",
    "\n",
    "loss = -sum(arg)/len(foofoo)\n",
    "print(\"total: %.4f\" % loss)"
   ]
  },
  {
   "cell_type": "code",
   "execution_count": null,
   "metadata": {
    "collapsed": true
   },
   "outputs": [],
   "source": [
    "total: 0.4140"
   ]
  },
  {
   "cell_type": "markdown",
   "metadata": {},
   "source": [
    "Sudoku is a number-placement puzzle. The objective is to fill a 9 × 9 grid with numbers in such a way that each column, each row, and each of the nine 3 × 3 sub-grids that compose the grid all contain all of the numbers from 1 to 9 one time.\n",
    "\n",
    "Implement an algorithm that will check whether the given grid of numbers represents a valid Sudoku puzzle according to the layout rules described above. Note that the puzzle represented by grid does not have to be solvable.\n",
    "\n",
    "Example\n",
    "\n",
    "    For\n",
    "\n",
    "    grid = [['.', '.', '.', '1', '4', '.', '.', '2', '.'],\n",
    "            ['.', '.', '6', '.', '.', '.', '.', '.', '.'],\n",
    "            ['.', '.', '.', '.', '.', '.', '.', '.', '.'],\n",
    "            ['.', '.', '1', '.', '.', '.', '.', '.', '.'],\n",
    "            ['.', '6', '7', '.', '.', '.', '.', '.', '9'],\n",
    "            ['.', '.', '.', '.', '.', '.', '8', '1', '.'],\n",
    "            ['.', '3', '.', '.', '.', '.', '.', '.', '6'],\n",
    "            ['.', '.', '.', '.', '.', '7', '.', '.', '.'],\n",
    "            ['.', '.', '.', '5', '.', '.', '.', '7', '.']]\n",
    "\n",
    "    the output should be\n",
    "    sudoku2(grid) = true;\n",
    "\n",
    "    For\n",
    "\n",
    "    grid = [['.', '.', '.', '.', '2', '.', '.', '9', '.'],\n",
    "            ['.', '.', '.', '.', '6', '.', '.', '.', '.'],\n",
    "            ['7', '1', '.', '.', '7', '5', '.', '.', '.'],\n",
    "            ['.', '7', '.', '.', '.', '.', '.', '.', '.'],\n",
    "            ['.', '.', '.', '.', '8', '3', '.', '.', '.'],\n",
    "            ['.', '.', '8', '.', '.', '7', '.', '6', '.'],\n",
    "            ['.', '.', '.', '.', '.', '2', '.', '.', '.'],\n",
    "            ['.', '1', '.', '2', '.', '.', '.', '.', '.'],\n",
    "            ['.', '2', '.', '.', '3', '.', '.', '.', '.']]\n",
    "\n",
    "    the output should be\n",
    "    sudoku2(grid) = false.\n",
    "\n",
    "    The given grid is not correct because there are two 1s in the second column. Each column, each row, and each 3 × 3 subgrid can only contain the numbers 1 through 9 one time.\n",
    "\n",
    "Input/Output\n",
    "\n",
    "    [time limit] 4000ms (py)\n",
    "\n",
    "    [input] array.array.char grid\n",
    "\n",
    "    A 9 × 9 array of characters, in which each character is either a digit from '1' to '9' or a period '.'.\n",
    "\n",
    "    [output] boolean\n",
    "\n",
    "    Return true if grid represents a valid Sudoku puzzle, otherwise return false.\n",
    "\n"
   ]
  },
  {
   "cell_type": "code",
   "execution_count": 10,
   "metadata": {
    "collapsed": false
   },
   "outputs": [
    {
     "name": "stdout",
     "output_type": "stream",
     "text": [
      "i=0,j=2,val=7\n",
      "i=1,j=2,val=1\n",
      "i=1,j=3,val=7\n",
      "i=1,j=7,val=1\n",
      "i=1,j=8,val=2\n",
      "i=2,j=5,val=8\n",
      "i=3,j=7,val=2\n",
      "i=4,j=0,val=2\n",
      "i=4,j=1,val=6\n",
      "i=4,j=2,val=7\n",
      "i=4,j=4,val=8\n",
      "i=4,j=8,val=3\n",
      "i=5,j=2,val=5\n",
      "i=5,j=4,val=3\n",
      "i=5,j=5,val=7\n",
      "i=5,j=6,val=2\n",
      "i=7,j=0,val=9\n",
      "i=7,j=5,val=6\n",
      "[['.', '.', '.', '.', '.', '.', '7', '.', '.'], ['2', '1', '.', '.', '.', '7', '1', '.', '.'], ['.', '.', '.', '8', '.', '.', '.', '.', '.'], ['.', '2', '.', '.', '.', '.', '.', '.', '.'], ['3', '.', '.', '.', '8', '.', '7', '6', '2'], ['.', '.', '2', '7', '3', '.', '5', '.', '.'], ['.', '.', '.', '.', '.', '.', '.', '.', '.'], ['.', '.', '.', '6', '.', '.', '.', '.', '9'], ['.', '.', '.', '.', '.', '.', '.', '.', '.']]\n",
      "[['.', '.', '.', '.', '.', '.', '.', '.', '.'], ['.', '.', '.', '.', '.', '.', '.', '.', '.'], ['.', '.', '.', '.', '.', '.', '.', '.', '.'], ['.', '.', '.', '.', '.', '.', '.', '.', '.'], ['.', '.', '.', '.', '.', '.', '.', '.', '.'], ['.', '.', '.', '.', '.', '.', '.', '.', '.'], ['.', '.', '.', '.', '.', '.', '.', '.', '.'], ['.', '.', '.', '.', '.', '.', '.', '.', '.'], ['.', '.', '.', '.', '.', '.', '.', '.', '.']]\n"
     ]
    }
   ],
   "source": [
    "grid = [['.', '.', '.', '.', '2', '.', '.', '9', '.'],\n",
    "        ['.', '.', '.', '.', '6', '.', '.', '.', '.'],\n",
    "        ['7', '1', '.', '.', '7', '5', '.', '.', '.'],\n",
    "        ['.', '7', '.', '.', '.', '.', '.', '.', '.'],\n",
    "        ['.', '.', '.', '.', '8', '3', '.', '.', '.'],\n",
    "        ['.', '.', '8', '.', '.', '7', '.', '6', '.'],\n",
    "        ['.', '.', '.', '.', '.', '2', '.', '.', '.'],\n",
    "        ['.', '1', '.', '2', '.', '.', '.', '.', '.'],\n",
    "        ['.', '2', '.', '.', '3', '.', '.', '.', '.']]\n",
    "grid2 = rotateImage(grid)\n",
    "grid3 = [[None]*len(grid[0])]*len(grid)\n",
    "for i in range(len(grid[0])):\n",
    "    for j in range(len(grid)):\n",
    "        if grid[j][i] != '.':\n",
    "            print('i={0},j={1},val={2}'.format(i,j,grid[j][i]))\n",
    "        grid3[i][j] = grid[j][i]\n",
    "print(grid2)\n",
    "print(grid3)"
   ]
  },
  {
   "cell_type": "code",
   "execution_count": 12,
   "metadata": {
    "collapsed": false
   },
   "outputs": [
    {
     "name": "stdout",
     "output_type": "stream",
     "text": [
      ".\n",
      "[]\n",
      ".\n",
      "[]\n",
      ".\n",
      "[]\n",
      ".\n",
      "[]\n",
      "2\n",
      "[]\n",
      ".\n",
      "['2']\n",
      ".\n",
      "['2']\n",
      "9\n",
      "['2']\n",
      ".\n",
      "['2', '9']\n",
      ".\n",
      "[]\n",
      ".\n",
      "[]\n",
      ".\n",
      "[]\n",
      ".\n",
      "[]\n",
      "6\n",
      "[]\n",
      ".\n",
      "['6']\n",
      ".\n",
      "['6']\n",
      ".\n",
      "['6']\n",
      ".\n",
      "['6']\n",
      "7\n",
      "[]\n",
      "1\n",
      "['7']\n",
      ".\n",
      "['7', '1']\n",
      ".\n",
      "['7', '1']\n",
      "7\n",
      "['7', '1']\n"
     ]
    },
    {
     "data": {
      "text/plain": [
       "False"
      ]
     },
     "execution_count": 12,
     "metadata": {},
     "output_type": "execute_result"
    }
   ],
   "source": [
    "def sudoku2(grid):\n",
    "    def rotateImage(a):\n",
    "        rotat = []\n",
    "        for i in range(len(a)):\n",
    "            tmp = []\n",
    "            for j in range(len(a)):\n",
    "                tmp.append(0)\n",
    "            rotat.append(tmp)\n",
    "\n",
    "        for i in range(len(a), 0, -1):\n",
    "            for j in range(len(a)):\n",
    "                rotat[i-1][-j-1] = a[j][i-1]\n",
    "        return rotat\n",
    "    \n",
    "    for row in grid:\n",
    "        seen = []\n",
    "        for r in row:\n",
    "            print(r)\n",
    "            print(seen)\n",
    "            if r != '.' and r not in seen:\n",
    "                seen.append(r)\n",
    "            elif r in seen:\n",
    "                return False\n",
    "    \n",
    "    grid2 = rotateImage(grid)\n",
    "    for row in grid2:\n",
    "        seen = []\n",
    "        for r in row:\n",
    "            print(r)\n",
    "            print(seen)\n",
    "            if r != '.' and r not in seen:\n",
    "                seen.append(r)\n",
    "            elif r in seen:\n",
    "                return False\n",
    "    return True\n",
    "\n",
    "grid = \n",
    "[[\".\",\".\",\".\",\".\",\".\",\".\",\"5\",\".\",\".\"], \n",
    " [\".\",\".\",\".\",\".\",\".\",\".\",\".\",\".\",\".\"], \n",
    " [\".\",\".\",\".\",\".\",\".\",\".\",\".\",\".\",\".\"], \n",
    " [\"9\",\"3\",\".\",\".\",\"2\",\".\",\"4\",\".\",\".\"], \n",
    " [\".\",\".\",\"7\",\".\",\".\",\".\",\"3\",\".\",\".\"], \n",
    " [\".\",\".\",\".\",\".\",\".\",\".\",\".\",\".\",\".\"], \n",
    " [\".\",\".\",\".\",\"3\",\"4\",\".\",\".\",\".\",\".\"], \n",
    " [\".\",\".\",\".\",\".\",\".\",\"3\",\".\",\".\",\".\"], \n",
    " [\".\",\".\",\".\",\".\",\".\",\"5\",\"2\",\".\",\".\"]]\n",
    "sudoku2(grid)"
   ]
  },
  {
   "cell_type": "code",
   "execution_count": 88,
   "metadata": {
    "collapsed": false
   },
   "outputs": [
    {
     "name": "stdout",
     "output_type": "stream",
     "text": [
      "[0, 1, 2, 3, 4, 5, 6, 7, 8]\n",
      "[9, 10, 11, 12, 13, 14, 15, 16, 17]\n",
      "[18, 19, 20, 21, 22, 23, 24, 25, 26]\n",
      "[27, 28, 29, 30, 31, 32, 33, 34, 35]\n",
      "[36, 37, 38, 39, 40, 41, 42, 43, 44]\n",
      "[45, 46, 47, 48, 49, 50, 51, 52, 53]\n",
      "[54, 55, 56, 57, 58, 59, 60, 61, 62]\n",
      "[63, 64, 65, 66, 67, 68, 69, 70, 71]\n",
      "[72, 73, 74, 75, 76, 77, 78, 79, 80]\n"
     ]
    }
   ],
   "source": [
    "foo = []\n",
    "row = []\n",
    "for i in range(81):\n",
    "    row.append(i)\n",
    "    if len(row) == 9:\n",
    "        foo.append(row)\n",
    "        row = []\n",
    "for f in foo:\n",
    "    print(f)"
   ]
  },
  {
   "cell_type": "code",
   "execution_count": 95,
   "metadata": {
    "collapsed": false
   },
   "outputs": [
    {
     "data": {
      "text/plain": [
       "[[0, 1, 2, 9, 10, 11, 18, 19, 20],\n",
       " [3, 4, 5, 12, 13, 14, 21, 22, 23],\n",
       " [6, 7, 8, 15, 16, 17, 24, 25, 26],\n",
       " [27, 28, 29, 36, 37, 38, 45, 46, 47],\n",
       " [30, 31, 32, 39, 40, 41, 48, 49, 50],\n",
       " [33, 34, 35, 42, 43, 44, 51, 52, 53],\n",
       " [54, 55, 56, 63, 64, 65, 72, 73, 74],\n",
       " [57, 58, 59, 66, 67, 68, 75, 76, 77],\n",
       " [60, 61, 62, 69, 70, 71, 78, 79, 80]]"
      ]
     },
     "execution_count": 95,
     "metadata": {},
     "output_type": "execute_result"
    }
   ],
   "source": [
    "# Divide sudoku board into 9 3x3 matrix (not in order/shape)\n",
    "def subdivide(foo, x=3):\n",
    "    fubarx = []\n",
    "    for i in range(x**2):\n",
    "        fubarx.append([])\n",
    "    # print(fubarx)\n",
    "    # x = 3 # submatrix dimensions 3x3\n",
    "    o = 0\n",
    "    for r in range(len(foo)):\n",
    "        temp = []\n",
    "        i = 0\n",
    "        for c in range(len(foo[0])):\n",
    "#             print(foo[r][c])\n",
    "            temp += [foo[r][c]]\n",
    "#             print(temp)\n",
    "            if c % x == x-1 and c > 0:\n",
    "    #             print(\"i: %s, c: %s\" % (i,c))\n",
    "    #             print(temp[i:i+x])\n",
    "                z = int((c+1)/x)\n",
    "                m = (z - 1) + int(o / x**2)*x\n",
    "                fubarx[m] += temp[i:i+x]\n",
    "                i += x\n",
    "                o += 1\n",
    "    #         temp.append(foo[r][c])\n",
    "    #         print(fubarx)\n",
    "    #         print(temp)\n",
    "#         print(temp)\n",
    "    #     break\n",
    "#     print(fubarx)\n",
    "    return fubarx\n",
    "subdivide(foo)"
   ]
  },
  {
   "cell_type": "code",
   "execution_count": 83,
   "metadata": {
    "collapsed": false
   },
   "outputs": [
    {
     "data": {
      "text/plain": [
       "[[], [], [6]]"
      ]
     },
     "execution_count": 83,
     "metadata": {},
     "output_type": "execute_result"
    }
   ],
   "source": [
    "foo = [1,2,3,4,5,6]\n",
    "[foo[i+3:i*3] for i in range(3)]"
   ]
  },
  {
   "cell_type": "markdown",
   "metadata": {},
   "source": [
    "# SOLUTION"
   ]
  },
  {
   "cell_type": "code",
   "execution_count": 98,
   "metadata": {
    "collapsed": false
   },
   "outputs": [
    {
     "data": {
      "text/plain": [
       "False"
      ]
     },
     "execution_count": 98,
     "metadata": {},
     "output_type": "execute_result"
    }
   ],
   "source": [
    "def sudoku2(grid):\n",
    "    def rotateImage(a):\n",
    "        rotat = []\n",
    "        for i in range(len(a)):\n",
    "            tmp = []\n",
    "            for j in range(len(a)):\n",
    "                tmp.append(0)\n",
    "            rotat.append(tmp)\n",
    "\n",
    "        for i in range(len(a), 0, -1):\n",
    "            for j in range(len(a)):\n",
    "                rotat[i-1][-j-1] = a[j][i-1]\n",
    "        return rotat\n",
    "    \n",
    "    def subdivide(foo, x=3):\n",
    "        fubarx = []\n",
    "        for i in range(x**2):\n",
    "            fubarx.append([])\n",
    "        # print(fubarx)\n",
    "        # x = 3 # submatrix dimensions 3x3\n",
    "        o = 0\n",
    "        for r in range(len(foo)):\n",
    "            temp = []\n",
    "            i = 0\n",
    "            for c in range(len(foo[0])):\n",
    "#                 print(foo[r][c])\n",
    "                temp += [foo[r][c]]\n",
    "                if c % x == x-1 and c > 0:\n",
    "                    z = int((c+1)/x)\n",
    "                    m = (z - 1) + int(o / x**2)*x\n",
    "                    fubarx[m] += temp[i:i+x]\n",
    "                    i += x\n",
    "                    o += 1\n",
    "        return fubarx\n",
    "    \n",
    "    for row in grid:\n",
    "        seen = []\n",
    "        for r in row:\n",
    "            if r != '.' and r not in seen:\n",
    "                seen.append(r)\n",
    "            elif r in seen:\n",
    "                return False\n",
    "    \n",
    "    grid2 = rotateImage(grid)\n",
    "    for row in grid2:\n",
    "        seen = []\n",
    "        for r in row:\n",
    "            if r != '.' and r not in seen:\n",
    "                seen.append(r)\n",
    "            elif r in seen:\n",
    "                return False\n",
    "    \n",
    "    submatrices = subdivide(grid)\n",
    "    for sub in submatrices:\n",
    "        seen = []\n",
    "        for r in sub:\n",
    "            if r != '.' and r not in seen:\n",
    "                seen.append(r)\n",
    "            elif r in seen:\n",
    "                return False \n",
    "    return True\n",
    "    \n",
    "grid = [[\".\",\"4\",\".\",\".\",\".\",\".\",\".\",\".\",\".\"], \n",
    " [\".\",\".\",\"4\",\".\",\".\",\".\",\".\",\".\",\".\"], \n",
    " [\".\",\".\",\".\",\"1\",\".\",\".\",\"7\",\".\",\".\"], \n",
    " [\".\",\".\",\".\",\".\",\".\",\".\",\".\",\".\",\".\"], \n",
    " [\".\",\".\",\".\",\"3\",\".\",\".\",\".\",\"6\",\".\"], \n",
    " [\".\",\".\",\".\",\".\",\".\",\"6\",\".\",\"9\",\".\"], \n",
    " [\".\",\".\",\".\",\".\",\"1\",\".\",\".\",\".\",\".\"], \n",
    " [\".\",\".\",\".\",\".\",\".\",\".\",\"2\",\".\",\".\"], \n",
    " [\".\",\".\",\".\",\"8\",\".\",\".\",\".\",\".\",\".\"]]\n",
    "\n",
    "sudoku2(grid)"
   ]
  },
  {
   "cell_type": "code",
   "execution_count": null,
   "metadata": {
    "collapsed": true
   },
   "outputs": [],
   "source": []
  }
 ],
 "metadata": {
  "anaconda-cloud": {},
  "kernelspec": {
   "display_name": "Python [default]",
   "language": "python",
   "name": "python3"
  },
  "language_info": {
   "codemirror_mode": {
    "name": "ipython",
    "version": 3
   },
   "file_extension": ".py",
   "mimetype": "text/x-python",
   "name": "python",
   "nbconvert_exporter": "python",
   "pygments_lexer": "ipython3",
   "version": "3.5.2"
  }
 },
 "nbformat": 4,
 "nbformat_minor": 1
}
